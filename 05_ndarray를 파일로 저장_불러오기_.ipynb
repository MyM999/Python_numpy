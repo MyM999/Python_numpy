{
 "cells": [
  {
   "cell_type": "markdown",
   "metadata": {},
   "source": [
    "# 배열을 파일에 저장 및 불러오기\n",
    "- ## 바이너리 파일로 저장/불러오기\n",
    "    - ### np.save(\"파일경로\", 배열)\n",
    "        - 배열을 raw 바이너리 형식으로 저장한다. (압축하지 않은)\n",
    "        - 파일명에 확장자로 npy를 붙인다. (무조건 붙인다. abc.xxx 해도 abc.xxx.npy 로 저장)\n",
    "    - ### np.load(\"파일경로\") \n",
    "        - 파일에 저장된 배열을 불러온다.\n",
    "    - ### np.savez(\"파일경로\", 이름=배열, 이름=배열, ...)\n",
    "        - 여러개의 배열을 저장할 때 사용\n",
    "        - 파일명에 확장자로 npz가 붙는다.\n",
    "        - 내부적으로 압축해서 저장한다.\n",
    "        - load() 함수로 불러오면 저장된 배열목록이 반환 된다. 저장시 지정한 이름을 이용해 조회 \n",
    "- ## 텍스트 파일로 저장하고 불러오기\n",
    "    - ### savetxt(\"파일경로\", 배열 [, delimiter='공백') \n",
    "        - 텍스트 형태로 저장.\n",
    "        - 각 원소는 공백을 기준으로 나뉘며 delimiter 속성으로 구분자를 지정할 수 있다. (delimiter생략시 공백)\n",
    "        - 1차원과 2차원 배열만 저장 가능하다. (3차원 이상은 저장이 안된다.)\n",
    "    - ### loadtxt(\"파일경로\" [,dtype=float, delimiter=공백)"
   ]
  },
  {
   "cell_type": "code",
   "execution_count": 1,
   "metadata": {},
   "outputs": [
    {
     "name": "stdout",
     "output_type": "stream",
     "text": [
      "(5,) (3, 4, 2) (5, 10)\n"
     ]
    }
   ],
   "source": [
    "import numpy as np\n",
    "\n",
    "a = np.array([1,5,8,9,10])  #1차원\n",
    "b = np.ones(shape=(3,4,2))  #3차원\n",
    "c = np.random.normal(size=(5,10)) # 2차원\n",
    "\n",
    "print(a.shape, b.shape, c.shape)"
   ]
  },
  {
   "cell_type": "code",
   "execution_count": 4,
   "metadata": {},
   "outputs": [],
   "source": [
    "# 저장 - binary 형식으로 저장\n",
    "import os\n",
    "# 저장할 디렉토리가 없으면 만들어라.\n",
    "save_dir = 'save_data'\n",
    "if not os.path.isdir(save_dir): # save_data 디렉토리가 있는지 여부 확인 - 디렉토리가 없으면\n",
    "    os.mkdir(save_dir) #디렉토리 생성.\n",
    "np.save(\"save_data/a\", a)  #a 배열을 save_data/a.npy 파일에 저장"
   ]
  },
  {
   "cell_type": "code",
   "execution_count": 5,
   "metadata": {},
   "outputs": [],
   "source": [
    "np.save('save_data/b', b)\n",
    "np.save('save_data/c', c)"
   ]
  },
  {
   "cell_type": "code",
   "execution_count": 7,
   "metadata": {
    "collapsed": true
   },
   "outputs": [
    {
     "name": "stdout",
     "output_type": "stream",
     "text": [
      "(5,)\n"
     ]
    },
    {
     "data": {
      "text/plain": [
       "array([ 1,  5,  8,  9, 10])"
      ]
     },
     "execution_count": 7,
     "metadata": {},
     "output_type": "execute_result"
    }
   ],
   "source": [
    "# binary 로 저장된 배열을 불러오기\n",
    "a2 = np.load('save_data/a.npy')\n",
    "print(a2.shape)\n",
    "a2"
   ]
  },
  {
   "cell_type": "code",
   "execution_count": 8,
   "metadata": {
    "collapsed": true
   },
   "outputs": [
    {
     "name": "stdout",
     "output_type": "stream",
     "text": [
      "(3, 4, 2)\n"
     ]
    },
    {
     "data": {
      "text/plain": [
       "array([[[1., 1.],\n",
       "        [1., 1.],\n",
       "        [1., 1.],\n",
       "        [1., 1.]],\n",
       "\n",
       "       [[1., 1.],\n",
       "        [1., 1.],\n",
       "        [1., 1.],\n",
       "        [1., 1.]],\n",
       "\n",
       "       [[1., 1.],\n",
       "        [1., 1.],\n",
       "        [1., 1.],\n",
       "        [1., 1.]]])"
      ]
     },
     "execution_count": 8,
     "metadata": {},
     "output_type": "execute_result"
    }
   ],
   "source": [
    "b2 = np.load('save_data/b.npy')\n",
    "print(b2.shape)\n",
    "b2"
   ]
  },
  {
   "cell_type": "code",
   "execution_count": 9,
   "metadata": {},
   "outputs": [
    {
     "name": "stdout",
     "output_type": "stream",
     "text": [
      "(5, 10)\n"
     ]
    }
   ],
   "source": [
    "c2 = np.load('save_data/c.npy')\n",
    "print(c2.shape)"
   ]
  },
  {
   "cell_type": "code",
   "execution_count": 10,
   "metadata": {
    "collapsed": true
   },
   "outputs": [
    {
     "data": {
      "text/plain": [
       "array([[-0.92592568, -1.03778481,  0.55576444, -0.49293227,  0.03434812,\n",
       "        -0.25166787,  0.84643024,  0.10513984,  0.38947237, -0.2923898 ],\n",
       "       [-0.31827446, -0.80046234, -0.46929609, -0.66502206,  1.85990938,\n",
       "         0.49512339, -0.64439872, -2.5328424 , -1.08892281, -0.16423049],\n",
       "       [-1.26650079, -0.41386438, -0.55346401, -0.65025846,  2.18474865,\n",
       "        -1.94519893,  1.27729472, -0.55880841, -2.64953243,  0.14918915],\n",
       "       [ 0.49148865,  0.74526273, -1.68700183,  0.72059506, -0.49810031,\n",
       "         0.38994436,  1.69777007, -1.10918139,  0.55235269, -0.31471092],\n",
       "       [-0.70948814,  0.86390438,  1.42795679, -0.17072126,  0.88241512,\n",
       "        -1.17041331, -2.02257187, -0.38913814, -0.08612742,  1.42200813]])"
      ]
     },
     "execution_count": 10,
     "metadata": {},
     "output_type": "execute_result"
    }
   ],
   "source": [
    "c"
   ]
  },
  {
   "cell_type": "code",
   "execution_count": 11,
   "metadata": {
    "collapsed": true
   },
   "outputs": [
    {
     "data": {
      "text/plain": [
       "array([[-0.92592568, -1.03778481,  0.55576444, -0.49293227,  0.03434812,\n",
       "        -0.25166787,  0.84643024,  0.10513984,  0.38947237, -0.2923898 ],\n",
       "       [-0.31827446, -0.80046234, -0.46929609, -0.66502206,  1.85990938,\n",
       "         0.49512339, -0.64439872, -2.5328424 , -1.08892281, -0.16423049],\n",
       "       [-1.26650079, -0.41386438, -0.55346401, -0.65025846,  2.18474865,\n",
       "        -1.94519893,  1.27729472, -0.55880841, -2.64953243,  0.14918915],\n",
       "       [ 0.49148865,  0.74526273, -1.68700183,  0.72059506, -0.49810031,\n",
       "         0.38994436,  1.69777007, -1.10918139,  0.55235269, -0.31471092],\n",
       "       [-0.70948814,  0.86390438,  1.42795679, -0.17072126,  0.88241512,\n",
       "        -1.17041331, -2.02257187, -0.38913814, -0.08612742,  1.42200813]])"
      ]
     },
     "execution_count": 11,
     "metadata": {},
     "output_type": "execute_result"
    }
   ],
   "source": [
    "c2"
   ]
  },
  {
   "cell_type": "code",
   "execution_count": 12,
   "metadata": {},
   "outputs": [],
   "source": [
    "# 세개의 배열을 한파일에 저장 (N개를 한파일에 저장)\n",
    "np.savez('save_data/all', arr_a=a, arr_b=b, arr_c=c)"
   ]
  },
  {
   "cell_type": "code",
   "execution_count": null,
   "metadata": {},
   "outputs": [],
   "source": [
    "# npz 파일 읽어오기 -> load()\n",
    "arr_all = np.load('save_data/all.npz')"
   ]
  },
  {
   "cell_type": "code",
   "execution_count": 14,
   "metadata": {},
   "outputs": [
    {
     "data": {
      "text/plain": [
       "['arr_a', 'arr_b', 'arr_c']"
      ]
     },
     "execution_count": 14,
     "metadata": {},
     "output_type": "execute_result"
    }
   ],
   "source": [
    "# 저장할때 지정한 이름 조회\n",
    "arr_all.files"
   ]
  },
  {
   "cell_type": "code",
   "execution_count": 15,
   "metadata": {},
   "outputs": [],
   "source": [
    "a3 = arr_all['arr_a']\n",
    "b3 = arr_all['arr_b']\n",
    "c3 = arr_all['arr_c']"
   ]
  },
  {
   "cell_type": "code",
   "execution_count": 16,
   "metadata": {},
   "outputs": [
    {
     "data": {
      "text/plain": [
       "array([ 1,  5,  8,  9, 10])"
      ]
     },
     "execution_count": 16,
     "metadata": {},
     "output_type": "execute_result"
    }
   ],
   "source": [
    "a3"
   ]
  },
  {
   "cell_type": "code",
   "execution_count": 17,
   "metadata": {
    "collapsed": true
   },
   "outputs": [
    {
     "data": {
      "text/plain": [
       "array([[[1., 1.],\n",
       "        [1., 1.],\n",
       "        [1., 1.],\n",
       "        [1., 1.]],\n",
       "\n",
       "       [[1., 1.],\n",
       "        [1., 1.],\n",
       "        [1., 1.],\n",
       "        [1., 1.]],\n",
       "\n",
       "       [[1., 1.],\n",
       "        [1., 1.],\n",
       "        [1., 1.],\n",
       "        [1., 1.]]])"
      ]
     },
     "execution_count": 17,
     "metadata": {},
     "output_type": "execute_result"
    }
   ],
   "source": [
    "b3"
   ]
  },
  {
   "cell_type": "code",
   "execution_count": 19,
   "metadata": {
    "collapsed": true
   },
   "outputs": [
    {
     "data": {
      "text/plain": [
       "array([[-0.92592568, -1.03778481,  0.55576444, -0.49293227,  0.03434812,\n",
       "        -0.25166787,  0.84643024,  0.10513984,  0.38947237, -0.2923898 ],\n",
       "       [-0.31827446, -0.80046234, -0.46929609, -0.66502206,  1.85990938,\n",
       "         0.49512339, -0.64439872, -2.5328424 , -1.08892281, -0.16423049],\n",
       "       [-1.26650079, -0.41386438, -0.55346401, -0.65025846,  2.18474865,\n",
       "        -1.94519893,  1.27729472, -0.55880841, -2.64953243,  0.14918915],\n",
       "       [ 0.49148865,  0.74526273, -1.68700183,  0.72059506, -0.49810031,\n",
       "         0.38994436,  1.69777007, -1.10918139,  0.55235269, -0.31471092],\n",
       "       [-0.70948814,  0.86390438,  1.42795679, -0.17072126,  0.88241512,\n",
       "        -1.17041331, -2.02257187, -0.38913814, -0.08612742,  1.42200813]])"
      ]
     },
     "execution_count": 19,
     "metadata": {},
     "output_type": "execute_result"
    }
   ],
   "source": [
    "c"
   ]
  },
  {
   "cell_type": "code",
   "execution_count": 18,
   "metadata": {
    "collapsed": true
   },
   "outputs": [
    {
     "data": {
      "text/plain": [
       "array([[-0.92592568, -1.03778481,  0.55576444, -0.49293227,  0.03434812,\n",
       "        -0.25166787,  0.84643024,  0.10513984,  0.38947237, -0.2923898 ],\n",
       "       [-0.31827446, -0.80046234, -0.46929609, -0.66502206,  1.85990938,\n",
       "         0.49512339, -0.64439872, -2.5328424 , -1.08892281, -0.16423049],\n",
       "       [-1.26650079, -0.41386438, -0.55346401, -0.65025846,  2.18474865,\n",
       "        -1.94519893,  1.27729472, -0.55880841, -2.64953243,  0.14918915],\n",
       "       [ 0.49148865,  0.74526273, -1.68700183,  0.72059506, -0.49810031,\n",
       "         0.38994436,  1.69777007, -1.10918139,  0.55235269, -0.31471092],\n",
       "       [-0.70948814,  0.86390438,  1.42795679, -0.17072126,  0.88241512,\n",
       "        -1.17041331, -2.02257187, -0.38913814, -0.08612742,  1.42200813]])"
      ]
     },
     "execution_count": 18,
     "metadata": {},
     "output_type": "execute_result"
    }
   ],
   "source": [
    "c3"
   ]
  },
  {
   "cell_type": "code",
   "execution_count": 22,
   "metadata": {},
   "outputs": [
    {
     "data": {
      "text/plain": [
       "array([ 1,  5,  8,  9, 10])"
      ]
     },
     "execution_count": 22,
     "metadata": {},
     "output_type": "execute_result"
    }
   ],
   "source": [
    "a"
   ]
  },
  {
   "cell_type": "code",
   "execution_count": 27,
   "metadata": {},
   "outputs": [],
   "source": [
    "# 텍스트파일로 저장 => 1차원, 2차원 배열만 가능\n",
    "np.savetxt(\"save_data/b_txt.csv\", a, delimiter=',')"
   ]
  },
  {
   "cell_type": "code",
   "execution_count": 28,
   "metadata": {},
   "outputs": [
    {
     "data": {
      "text/plain": [
       "array([ 1.,  5.,  8.,  9., 10.])"
      ]
     },
     "execution_count": 28,
     "metadata": {},
     "output_type": "execute_result"
    }
   ],
   "source": [
    "a4 = np.loadtxt('save_data/b_txt.csv')\n",
    "a4"
   ]
  },
  {
   "cell_type": "code",
   "execution_count": 29,
   "metadata": {},
   "outputs": [],
   "source": [
    "np.savetxt('save_data/c.csv', c)"
   ]
  },
  {
   "cell_type": "code",
   "execution_count": 30,
   "metadata": {},
   "outputs": [],
   "source": [
    "np.savetxt('save_data/c_2.csv', c, delimiter=',')"
   ]
  },
  {
   "cell_type": "code",
   "execution_count": 32,
   "metadata": {
    "collapsed": true
   },
   "outputs": [
    {
     "data": {
      "text/plain": [
       "array([[-0.92592568, -1.03778481,  0.55576444, -0.49293227,  0.03434812,\n",
       "        -0.25166787,  0.84643024,  0.10513984,  0.38947237, -0.2923898 ],\n",
       "       [-0.31827446, -0.80046234, -0.46929609, -0.66502206,  1.85990938,\n",
       "         0.49512339, -0.64439872, -2.5328424 , -1.08892281, -0.16423049],\n",
       "       [-1.26650079, -0.41386438, -0.55346401, -0.65025846,  2.18474865,\n",
       "        -1.94519893,  1.27729472, -0.55880841, -2.64953243,  0.14918915],\n",
       "       [ 0.49148865,  0.74526273, -1.68700183,  0.72059506, -0.49810031,\n",
       "         0.38994436,  1.69777007, -1.10918139,  0.55235269, -0.31471092],\n",
       "       [-0.70948814,  0.86390438,  1.42795679, -0.17072126,  0.88241512,\n",
       "        -1.17041331, -2.02257187, -0.38913814, -0.08612742,  1.42200813]])"
      ]
     },
     "execution_count": 32,
     "metadata": {},
     "output_type": "execute_result"
    }
   ],
   "source": [
    "c4 = np.loadtxt('save_data/c.csv')\n",
    "c4.shape\n",
    "c4"
   ]
  },
  {
   "cell_type": "code",
   "execution_count": 35,
   "metadata": {},
   "outputs": [
    {
     "data": {
      "text/plain": [
       "(5, 10)"
      ]
     },
     "execution_count": 35,
     "metadata": {},
     "output_type": "execute_result"
    }
   ],
   "source": [
    "c5 = np.loadtxt('save_data/c_2.csv', delimiter=',') #delimiter는 저장할 때 지정한 것과 동일한 것을 지정한다.\n",
    "c5.shape"
   ]
  },
  {
   "cell_type": "code",
   "execution_count": 36,
   "metadata": {},
   "outputs": [
    {
     "ename": "ValueError",
     "evalue": "Expected 1D or 2D array, got 3D array instead",
     "output_type": "error",
     "traceback": [
      "\u001b[1;31m---------------------------------------------------------------------------\u001b[0m",
      "\u001b[1;31mValueError\u001b[0m                                Traceback (most recent call last)",
      "Input \u001b[1;32mIn [36]\u001b[0m, in \u001b[0;36m<cell line: 1>\u001b[1;34m()\u001b[0m\n\u001b[1;32m----> 1\u001b[0m \u001b[43mnp\u001b[49m\u001b[38;5;241;43m.\u001b[39;49m\u001b[43msavetxt\u001b[49m\u001b[43m(\u001b[49m\u001b[38;5;124;43m'\u001b[39;49m\u001b[38;5;124;43mtest\u001b[39;49m\u001b[38;5;124;43m'\u001b[39;49m\u001b[43m,\u001b[49m\u001b[43m \u001b[49m\u001b[43mb\u001b[49m\u001b[43m)\u001b[49m\n",
      "File \u001b[1;32m<__array_function__ internals>:180\u001b[0m, in \u001b[0;36msavetxt\u001b[1;34m(*args, **kwargs)\u001b[0m\n",
      "File \u001b[1;32m~\\Anaconda3\\envs\\ml\\lib\\site-packages\\numpy\\lib\\npyio.py:1397\u001b[0m, in \u001b[0;36msavetxt\u001b[1;34m(fname, X, fmt, delimiter, newline, header, footer, comments, encoding)\u001b[0m\n\u001b[0;32m   1395\u001b[0m \u001b[38;5;66;03m# Handle 1-dimensional arrays\u001b[39;00m\n\u001b[0;32m   1396\u001b[0m \u001b[38;5;28;01mif\u001b[39;00m X\u001b[38;5;241m.\u001b[39mndim \u001b[38;5;241m==\u001b[39m \u001b[38;5;241m0\u001b[39m \u001b[38;5;129;01mor\u001b[39;00m X\u001b[38;5;241m.\u001b[39mndim \u001b[38;5;241m>\u001b[39m \u001b[38;5;241m2\u001b[39m:\n\u001b[1;32m-> 1397\u001b[0m     \u001b[38;5;28;01mraise\u001b[39;00m \u001b[38;5;167;01mValueError\u001b[39;00m(\n\u001b[0;32m   1398\u001b[0m         \u001b[38;5;124m\"\u001b[39m\u001b[38;5;124mExpected 1D or 2D array, got \u001b[39m\u001b[38;5;132;01m%d\u001b[39;00m\u001b[38;5;124mD array instead\u001b[39m\u001b[38;5;124m\"\u001b[39m \u001b[38;5;241m%\u001b[39m X\u001b[38;5;241m.\u001b[39mndim)\n\u001b[0;32m   1399\u001b[0m \u001b[38;5;28;01melif\u001b[39;00m X\u001b[38;5;241m.\u001b[39mndim \u001b[38;5;241m==\u001b[39m \u001b[38;5;241m1\u001b[39m:\n\u001b[0;32m   1400\u001b[0m     \u001b[38;5;66;03m# Common case -- 1d array of numbers\u001b[39;00m\n\u001b[0;32m   1401\u001b[0m     \u001b[38;5;28;01mif\u001b[39;00m X\u001b[38;5;241m.\u001b[39mdtype\u001b[38;5;241m.\u001b[39mnames \u001b[38;5;129;01mis\u001b[39;00m \u001b[38;5;28;01mNone\u001b[39;00m:\n",
      "\u001b[1;31mValueError\u001b[0m: Expected 1D or 2D array, got 3D array instead"
     ]
    }
   ],
   "source": [
    "np.savetxt('test', b) #b: 3차원배열 => text로 저장은 1,2차원만 가능"
   ]
  },
  {
   "cell_type": "code",
   "execution_count": 38,
   "metadata": {},
   "outputs": [
    {
     "data": {
      "text/plain": [
       "dtype('int32')"
      ]
     },
     "execution_count": 38,
     "metadata": {},
     "output_type": "execute_result"
    }
   ],
   "source": [
    "a.dtype"
   ]
  },
  {
   "cell_type": "code",
   "execution_count": 42,
   "metadata": {},
   "outputs": [
    {
     "data": {
      "text/plain": [
       "dtype('int32')"
      ]
     },
     "execution_count": 42,
     "metadata": {},
     "output_type": "execute_result"
    }
   ],
   "source": [
    "a5 = np.loadtxt('save_data/a_txt.csv', dtype='int32')\n",
    "a5.dtype"
   ]
  },
  {
   "cell_type": "code",
   "execution_count": 43,
   "metadata": {},
   "outputs": [
    {
     "data": {
      "text/plain": [
       "array([ 1,  5,  8,  9, 10])"
      ]
     },
     "execution_count": 43,
     "metadata": {},
     "output_type": "execute_result"
    }
   ],
   "source": [
    "a5"
   ]
  },
  {
   "cell_type": "code",
   "execution_count": 45,
   "metadata": {},
   "outputs": [
    {
     "data": {
      "text/html": [
       "<div>\n",
       "<style scoped>\n",
       "    .dataframe tbody tr th:only-of-type {\n",
       "        vertical-align: middle;\n",
       "    }\n",
       "\n",
       "    .dataframe tbody tr th {\n",
       "        vertical-align: top;\n",
       "    }\n",
       "\n",
       "    .dataframe thead th {\n",
       "        text-align: right;\n",
       "    }\n",
       "</style>\n",
       "<table border=\"1\" class=\"dataframe\">\n",
       "  <thead>\n",
       "    <tr style=\"text-align: right;\">\n",
       "      <th></th>\n",
       "      <th>0</th>\n",
       "      <th>1</th>\n",
       "      <th>2</th>\n",
       "      <th>3</th>\n",
       "      <th>4</th>\n",
       "      <th>5</th>\n",
       "      <th>6</th>\n",
       "      <th>7</th>\n",
       "      <th>8</th>\n",
       "      <th>9</th>\n",
       "    </tr>\n",
       "  </thead>\n",
       "  <tbody>\n",
       "    <tr>\n",
       "      <th>0</th>\n",
       "      <td>-0.925926</td>\n",
       "      <td>-1.037785</td>\n",
       "      <td>0.555764</td>\n",
       "      <td>-0.492932</td>\n",
       "      <td>0.034348</td>\n",
       "      <td>-0.251668</td>\n",
       "      <td>0.846430</td>\n",
       "      <td>0.105140</td>\n",
       "      <td>0.389472</td>\n",
       "      <td>-0.292390</td>\n",
       "    </tr>\n",
       "    <tr>\n",
       "      <th>1</th>\n",
       "      <td>-0.318274</td>\n",
       "      <td>-0.800462</td>\n",
       "      <td>-0.469296</td>\n",
       "      <td>-0.665022</td>\n",
       "      <td>1.859909</td>\n",
       "      <td>0.495123</td>\n",
       "      <td>-0.644399</td>\n",
       "      <td>-2.532842</td>\n",
       "      <td>-1.088923</td>\n",
       "      <td>-0.164230</td>\n",
       "    </tr>\n",
       "    <tr>\n",
       "      <th>2</th>\n",
       "      <td>-1.266501</td>\n",
       "      <td>-0.413864</td>\n",
       "      <td>-0.553464</td>\n",
       "      <td>-0.650258</td>\n",
       "      <td>2.184749</td>\n",
       "      <td>-1.945199</td>\n",
       "      <td>1.277295</td>\n",
       "      <td>-0.558808</td>\n",
       "      <td>-2.649532</td>\n",
       "      <td>0.149189</td>\n",
       "    </tr>\n",
       "    <tr>\n",
       "      <th>3</th>\n",
       "      <td>0.491489</td>\n",
       "      <td>0.745263</td>\n",
       "      <td>-1.687002</td>\n",
       "      <td>0.720595</td>\n",
       "      <td>-0.498100</td>\n",
       "      <td>0.389944</td>\n",
       "      <td>1.697770</td>\n",
       "      <td>-1.109181</td>\n",
       "      <td>0.552353</td>\n",
       "      <td>-0.314711</td>\n",
       "    </tr>\n",
       "    <tr>\n",
       "      <th>4</th>\n",
       "      <td>-0.709488</td>\n",
       "      <td>0.863904</td>\n",
       "      <td>1.427957</td>\n",
       "      <td>-0.170721</td>\n",
       "      <td>0.882415</td>\n",
       "      <td>-1.170413</td>\n",
       "      <td>-2.022572</td>\n",
       "      <td>-0.389138</td>\n",
       "      <td>-0.086127</td>\n",
       "      <td>1.422008</td>\n",
       "    </tr>\n",
       "  </tbody>\n",
       "</table>\n",
       "</div>"
      ],
      "text/plain": [
       "          0         1         2         3         4         5         6  \\\n",
       "0 -0.925926 -1.037785  0.555764 -0.492932  0.034348 -0.251668  0.846430   \n",
       "1 -0.318274 -0.800462 -0.469296 -0.665022  1.859909  0.495123 -0.644399   \n",
       "2 -1.266501 -0.413864 -0.553464 -0.650258  2.184749 -1.945199  1.277295   \n",
       "3  0.491489  0.745263 -1.687002  0.720595 -0.498100  0.389944  1.697770   \n",
       "4 -0.709488  0.863904  1.427957 -0.170721  0.882415 -1.170413 -2.022572   \n",
       "\n",
       "          7         8         9  \n",
       "0  0.105140  0.389472 -0.292390  \n",
       "1 -2.532842 -1.088923 -0.164230  \n",
       "2 -0.558808 -2.649532  0.149189  \n",
       "3 -1.109181  0.552353 -0.314711  \n",
       "4 -0.389138 -0.086127  1.422008  "
      ]
     },
     "execution_count": 45,
     "metadata": {},
     "output_type": "execute_result"
    }
   ],
   "source": [
    "import pandas as pd\n",
    "df = pd.read_csv('save_data/c_2.csv', header=None)\n",
    "df"
   ]
  },
  {
   "cell_type": "code",
   "execution_count": null,
   "metadata": {},
   "outputs": [],
   "source": []
  },
  {
   "cell_type": "code",
   "execution_count": null,
   "metadata": {},
   "outputs": [],
   "source": []
  }
 ],
 "metadata": {
  "kernelspec": {
   "display_name": "Python 3 (ipykernel)",
   "language": "python",
   "name": "python3"
  },
  "language_info": {
   "codemirror_mode": {
    "name": "ipython",
    "version": 3
   },
   "file_extension": ".py",
   "mimetype": "text/x-python",
   "name": "python",
   "nbconvert_exporter": "python",
   "pygments_lexer": "ipython3",
   "version": "3.10.4"
  },
  "toc": {
   "base_numbering": 1,
   "nav_menu": {},
   "number_sections": true,
   "sideBar": true,
   "skip_h1_title": false,
   "title_cell": "Table of Contents",
   "title_sidebar": "Contents",
   "toc_cell": false,
   "toc_position": {},
   "toc_section_display": true,
   "toc_window_display": false
  },
  "varInspector": {
   "cols": {
    "lenName": 16,
    "lenType": 16,
    "lenVar": 40
   },
   "kernels_config": {
    "python": {
     "delete_cmd_postfix": "",
     "delete_cmd_prefix": "del ",
     "library": "var_list.py",
     "varRefreshCmd": "print(var_dic_list())"
    },
    "r": {
     "delete_cmd_postfix": ") ",
     "delete_cmd_prefix": "rm(",
     "library": "var_list.r",
     "varRefreshCmd": "cat(var_dic_list()) "
    }
   },
   "types_to_exclude": [
    "module",
    "function",
    "builtin_function_or_method",
    "instance",
    "_Feature"
   ],
   "window_display": false
  }
 },
 "nbformat": 4,
 "nbformat_minor": 2
}
